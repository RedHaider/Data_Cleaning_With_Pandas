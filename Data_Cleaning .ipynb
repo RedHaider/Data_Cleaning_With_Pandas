{
  "nbformat": 4,
  "nbformat_minor": 0,
  "metadata": {
    "colab": {
      "provenance": []
    },
    "kernelspec": {
      "name": "python3",
      "display_name": "Python 3"
    },
    "language_info": {
      "name": "python"
    }
  },
  "cells": [
    {
      "cell_type": "markdown",
      "source": [
        "1)Convert text file to csv\n",
        "\n",
        "2)If province is 0 drop the row\n",
        "\n",
        "3)If deaths, confirmed rows data is null, \n",
        "replace with 0\n",
        "\n",
        "4)Count total drop rows and null value\n",
        "\n",
        "5)Data visualize with matplotlib (deaths, \n",
        "confirmed), histogram or scatter or line chart\n",
        "\n",
        "6)Manually add data type in the csv file\n",
        "\n",
        "7)Show location in map using streamlit\n",
        "\n",
        "8)Push code to a github public repo and share line here"
      ],
      "metadata": {
        "id": "NXn9y2aCTIl6"
      }
    },
    {
      "cell_type": "markdown",
      "source": [
        "**1)Convert text file to csv**"
      ],
      "metadata": {
        "id": "odlQf4J61qhl"
      }
    },
    {
      "cell_type": "code",
      "execution_count": 2,
      "metadata": {
        "colab": {
          "base_uri": "https://localhost:8080/"
        },
        "id": "Fxeo6CFmTCCc",
        "outputId": "77915855-f429-43b1-cfde-608e804d89a9"
      },
      "outputs": [
        {
          "output_type": "stream",
          "name": "stdout",
          "text": [
            "Drive already mounted at /content/drive; to attempt to forcibly remount, call drive.mount(\"/content/drive\", force_remount=True).\n"
          ]
        }
      ],
      "source": [
        "import pandas as pd\n",
        "import numpy as np\n",
        "from google.colab import drive\n",
        "drive.mount('/content/drive')\n",
        "file_path = \"/content/drive/MyDrive/ADN_DATA/dataset.txt\"\n",
        "Data_Cleaning = \"/content/drive/MyDrive/ADN_DATA/cleaned.csv\"\n",
        "data = pd.read_csv(file_path, delimiter=' ')\n",
        "data.to_csv(Data_Cleaning, index=False)\n",
        "\n",
        "\n",
        "\n",
        "#df = pd.read_csv(file_path, delimiter='\\t')\n",
        "#Data_Cleaning = \"/content/drive/MyDrive/ADN_DATA/dataset.csv\"\n",
        "#df.to_csv(Data_Cleaning, index=False)\n",
        "#df.head()"
      ]
    },
    {
      "cell_type": "markdown",
      "source": [
        "**2)If province is 0 drop the row**"
      ],
      "metadata": {
        "id": "MXPcF0pU1xws"
      }
    },
    {
      "cell_type": "markdown",
      "source": [],
      "metadata": {
        "id": "O5-b5SyLD7Zs"
      }
    },
    {
      "cell_type": "code",
      "source": [
        "data.head(100)\n",
        "filtered_data = data[data['Province_State'] != '0']\n",
        "filtered_data.to_csv('/content/drive/MyDrive/ADN_DATA/Cleaned_2.csv', index=False)"
      ],
      "metadata": {
        "id": "G5lWKDXsUSoW"
      },
      "execution_count": 3,
      "outputs": []
    },
    {
      "cell_type": "code",
      "source": [
        "#check if there is more 0 valaues in province column\n",
        "Data_Cleaning_2 = \"/content/drive/MyDrive/ADN_DATA/Cleaned_2.csv\"\n",
        "\n",
        "# Read the CSV file into a DataFrame\n",
        "data = pd.read_csv(Data_Cleaning_2)\n",
        "\n",
        "# Filter the DataFrame where \"Province_State\" is equal to '0'\n",
        "see_data = data[data['Province_State'] == '0']\n",
        "\n",
        "# Print the filtered DataFrame\n",
        "print(see_data)"
      ],
      "metadata": {
        "colab": {
          "base_uri": "https://localhost:8080/"
        },
        "id": "Awu1Kpg644Ml",
        "outputId": "b8543231-9a05-457d-d01b-6770b9a85acd"
      },
      "execution_count": 4,
      "outputs": [
        {
          "output_type": "stream",
          "name": "stdout",
          "text": [
            "Empty DataFrame\n",
            "Columns: [Province_State, Country_Region, Lat, Long, Date, Confirmed, Deaths]\n",
            "Index: []\n"
          ]
        }
      ]
    },
    {
      "cell_type": "markdown",
      "source": [
        "**3)If deaths, confirmed rows data is null, replace with 0**"
      ],
      "metadata": {
        "id": "wRbFYXda6WhX"
      }
    },
    {
      "cell_type": "code",
      "source": [],
      "metadata": {
        "id": "d1zMF1mjKW4h"
      },
      "execution_count": 4,
      "outputs": []
    },
    {
      "cell_type": "code",
      "source": [
        "data = pd.read_csv('/content/drive/MyDrive/ADN_DATA/cleaned_3.csv')\n",
        "null_values = data.isnull().sum()\n",
        "print(null_values)"
      ],
      "metadata": {
        "colab": {
          "base_uri": "https://localhost:8080/"
        },
        "id": "vwcIgVYc6dcb",
        "outputId": "46782bd5-7466-46cb-f0fe-2cb037358e14"
      },
      "execution_count": 5,
      "outputs": [
        {
          "output_type": "stream",
          "name": "stdout",
          "text": [
            "Province_State    0\n",
            "Country_Region    0\n",
            "Lat               0\n",
            "Long              0\n",
            "Date              1\n",
            "Confirmed         0\n",
            "Deaths            0\n",
            "dtype: int64\n"
          ]
        }
      ]
    },
    {
      "cell_type": "code",
      "source": [
        "colum_Death = 'Deaths'\n",
        "colum_Confirmed = 'Confirmed'\n",
        "\n",
        "data[colum_Death].fillna(0,inplace=True)\n",
        "data[colum_Confirmed].fillna(0,inplace=True)\n",
        "\n",
        "Data_Cleaning_3 = \"/content/drive/MyDrive/ADN_DATA/cleaned_3.csv\"\n",
        "data.to_csv(Data_Cleaning_3, index=False)\n",
        "\n",
        "print(data)\n",
        "#the cleaned_3 is the cleaned the excell fill where the column of death adn confirmed of N/A is 0"
      ],
      "metadata": {
        "colab": {
          "base_uri": "https://localhost:8080/"
        },
        "id": "VHHnlO4UH-DM",
        "outputId": "822afcd7-4db4-45f2-b5f5-3f5c28b05da0"
      },
      "execution_count": 6,
      "outputs": [
        {
          "output_type": "stream",
          "name": "stdout",
          "text": [
            "       Province_State Country_Region        Lat       Long     Date  \\\n",
            "0             Alabama             US  32.539527 -86.644082  1/22/20   \n",
            "1             Alabama             US  30.727750 -87.722071  1/22/20   \n",
            "2             Alabama             US  31.868263 -85.387129  1/22/20   \n",
            "3             Alabama             US  32.996421 -87.125115  1/22/20   \n",
            "4             Alabama             US  33.982109 -86.567906  1/22/20   \n",
            "...               ...            ...        ...        ...      ...   \n",
            "325423      Tennessee             US  35.973661 -88.451893   7/6/20   \n",
            "325424      Tennessee             US  36.289691 -82.125890   7/6/20   \n",
            "325425      Tennessee             US  36.261362 -87.089036   7/6/20   \n",
            "325426      Tennessee             US  35.425275 -88.609584   7/6/20   \n",
            "325427      Tennessee             US  36.483191 -83.659473      NaN   \n",
            "\n",
            "        Confirmed  Deaths  \n",
            "0             0.0     0.0  \n",
            "1             0.0     0.0  \n",
            "2             0.0     0.0  \n",
            "3             0.0     0.0  \n",
            "4             0.0     0.0  \n",
            "...           ...     ...  \n",
            "325423       48.0     1.0  \n",
            "325424       65.0     1.0  \n",
            "325425      232.0     1.0  \n",
            "325426       35.0     0.0  \n",
            "325427        0.0     0.0  \n",
            "\n",
            "[325428 rows x 7 columns]\n"
          ]
        }
      ]
    },
    {
      "cell_type": "markdown",
      "source": [
        "**4)Count total drop rows and null value**"
      ],
      "metadata": {
        "id": "oKEGy7W6NGKY"
      }
    },
    {
      "cell_type": "code",
      "source": [
        "DataSetTXT = \"/content/drive/MyDrive/ADN_DATA/dataset.txt\"\n",
        "DataSetCSV = \"/content/drive/MyDrive/ADN_DATA/datasetraw.csv\"\n",
        "data = pd.read_csv(DataSetTXT, delimiter=' ')\n",
        "data.to_csv(DataSetCSV, index=False)"
      ],
      "metadata": {
        "id": "UAjdqY0PU659"
      },
      "execution_count": 7,
      "outputs": []
    },
    {
      "cell_type": "code",
      "source": [
        "\n",
        "\n",
        "filtered_data_Province = data[data['Province_State']== '0']\n",
        "filtered_data_Confirmed_Death = data['Confirmed'].isnull().count() + data['Deaths'].isnull().count()\n",
        "\n",
        "count = filtered_data_Province['Province_State'].count()\n",
        "print('The number of dropped tables ='+str(count))\n",
        "print('The number of null values='+str(filtered_data_Confirmed_Death))\n",
        "#to be continued"
      ],
      "metadata": {
        "colab": {
          "base_uri": "https://localhost:8080/"
        },
        "id": "i_0h6HUqNFzI",
        "outputId": "0e357eca-6796-4f1c-c9ed-a5e611c8d248"
      },
      "execution_count": 8,
      "outputs": [
        {
          "output_type": "stream",
          "name": "stdout",
          "text": [
            "The number of dropped tables =9\n",
            "The number of null values=650874\n"
          ]
        }
      ]
    },
    {
      "cell_type": "markdown",
      "source": [
        "**5)Data visualize with matplotlib (deaths, confirmed), histogram or scatter or line chart**"
      ],
      "metadata": {
        "id": "eh5HTTLpb8Nf"
      }
    },
    {
      "cell_type": "code",
      "source": [
        "import matplotlib.pyplot as plt\n",
        "\n",
        "DataSet_3 = pd.read_csv('/content/drive/MyDrive/ADN_DATA/cleaned_3.csv')\n",
        "\n",
        "plt.figure(figsize=(10,6))\n",
        "plt.plot(DataSet_3['Deaths'], label='Deaths')\n",
        "plt.plot(DataSet_3['Confirmed'], label='Confirmed')\n",
        "plt.xlabel('Day')\n",
        "plt.ylabel('count')\n",
        "plt.title('Deaths and Confirmed Cases Over Time')\n",
        "plt.legend()\n",
        "plt.grid(True)\n",
        "plt.show()"
      ],
      "metadata": {
        "colab": {
          "base_uri": "https://localhost:8080/",
          "height": 486
        },
        "id": "jyebzbW6cG05",
        "outputId": "638a2acb-cfc1-42ac-ede9-809656a5bcac"
      },
      "execution_count": 9,
      "outputs": [
        {
          "output_type": "display_data",
          "data": {
            "text/plain": [
              "<Figure size 1000x600 with 1 Axes>"
            ],
            "image/png": "[encoded data removed]"
          },
          "metadata": {}
        }
      ]
    },
    {
      "cell_type": "markdown",
      "source": [
        "**6)Manually add data type in the csv file**"
      ],
      "metadata": {
        "id": "K8rpDv0EmBq_"
      }
    },
    {
      "cell_type": "code",
      "source": [
        "import pandas as pd\n",
        "\n",
        "# Define a custom date parsing function\n",
        "def custom_date_parser(date_string):\n",
        "    return pd.to_datetime(date_string, format='%m/%d/%y')\n",
        "\n",
        "Page_Source = '/content/drive/MyDrive/ADN_DATA/cleaned_4.csv'\n",
        "\n",
        "# Read the CSV file with specified data types and date format\n",
        "formated_Data = pd.read_csv(Page_Source, header=0, dtype={\n",
        "    'Province_State': str,\n",
        "    'Country_Region': str,\n",
        "    'Lat': float,\n",
        "    'Long': float,\n",
        "}, parse_dates=['Date'], date_parser=custom_date_parser)\n",
        "\n",
        "# Access the data with specified data types and date format\n",
        "print(formated_Data.dtypes)\n",
        "print(formated_Data.head())\n"
      ],
      "metadata": {
        "colab": {
          "base_uri": "https://localhost:8080/"
        },
        "id": "EG8ZKuJ5mIF6",
        "outputId": "ad0bde34-1b3b-421f-8215-1d756033b488"
      },
      "execution_count": 10,
      "outputs": [
        {
          "output_type": "stream",
          "name": "stdout",
          "text": [
            "Province_State            object\n",
            "Country_Region            object\n",
            "Lat                      float64\n",
            "Long                     float64\n",
            "Date              datetime64[ns]\n",
            "Confirmed                float64\n",
            "Deaths                   float64\n",
            "dtype: object\n",
            "  Province_State Country_Region        Lat       Long       Date  Confirmed  \\\n",
            "0        Alabama             US  32.539527 -86.644082 2020-01-22        0.0   \n",
            "1        Alabama             US  30.727750 -87.722071 2020-01-22        0.0   \n",
            "2        Alabama             US  31.868263 -85.387129 2020-01-22        0.0   \n",
            "3        Alabama             US  32.996421 -87.125115 2020-01-22        0.0   \n",
            "4        Alabama             US  33.982109 -86.567906 2020-01-22        0.0   \n",
            "\n",
            "   Deaths  \n",
            "0     0.0  \n",
            "1     0.0  \n",
            "2     0.0  \n",
            "3     0.0  \n",
            "4     0.0  \n"
          ]
        }
      ]
    },
    {
      "cell_type": "code",
      "source": [
        "\n",
        "Final = \"/content/drive/MyDrive/ADN_DATA/Final.csv\"\n",
        "formated_Data.to_csv(Final, index=False)\n",
        "\n"
      ],
      "metadata": {
        "id": "EREgstbP4W05"
      },
      "execution_count": 11,
      "outputs": []
    },
    {
      "cell_type": "code",
      "source": [
        "perse_vai = pd.read_csv(\"/content/drive/MyDrive/ADN_DATA/Final.csv\")\n",
        "\n",
        "# Access the data with specified data types and date format\n",
        "print(perse_vai.dtypes)\n",
        "print(perse_vai.head())"
      ],
      "metadata": {
        "colab": {
          "base_uri": "https://localhost:8080/"
        },
        "id": "JL3o6cyy5lKZ",
        "outputId": "34659d76-9836-4c0d-e16f-6a1850aff284"
      },
      "execution_count": 12,
      "outputs": [
        {
          "output_type": "stream",
          "name": "stdout",
          "text": [
            "Province_State     object\n",
            "Country_Region     object\n",
            "Lat               float64\n",
            "Long              float64\n",
            "Date               object\n",
            "Confirmed         float64\n",
            "Deaths            float64\n",
            "dtype: object\n",
            "  Province_State Country_Region        Lat       Long        Date  Confirmed  \\\n",
            "0        Alabama             US  32.539527 -86.644082  2020-01-22        0.0   \n",
            "1        Alabama             US  30.727750 -87.722071  2020-01-22        0.0   \n",
            "2        Alabama             US  31.868263 -85.387129  2020-01-22        0.0   \n",
            "3        Alabama             US  32.996421 -87.125115  2020-01-22        0.0   \n",
            "4        Alabama             US  33.982109 -86.567906  2020-01-22        0.0   \n",
            "\n",
            "   Deaths  \n",
            "0     0.0  \n",
            "1     0.0  \n",
            "2     0.0  \n",
            "3     0.0  \n",
            "4     0.0  \n"
          ]
        }
      ]
    },
    {
      "cell_type": "markdown",
      "source": [
        "**7)Show location in map using streamlit**"
      ],
      "metadata": {
        "id": "J7o-vgMh8sZ2"
      }
    },
    {
      "cell_type": "code",
      "source": [
        "pip install streamlit folium"
      ],
      "metadata": {
        "colab": {
          "base_uri": "https://localhost:8080/"
        },
        "id": "J2zde-5w87Rg",
        "outputId": "fa14f752-4b8c-4439-aa46-dfa250e06838"
      },
      "execution_count": 13,
      "outputs": [
        {
          "output_type": "stream",
          "name": "stdout",
          "text": [
            "Looking in indexes: https://pypi.org/simple, https://us-python.pkg.dev/colab-wheels/public/simple/\n",
            "Requirement already satisfied: streamlit in /usr/local/lib/python3.10/dist-packages (1.22.0)\n",
            "Requirement already satisfied: folium in /usr/local/lib/python3.10/dist-packages (0.14.0)\n",
            "Requirement already satisfied: altair<5,>=3.2.0 in /usr/local/lib/python3.10/dist-packages (from streamlit) (4.2.2)\n",
            "Requirement already satisfied: blinker>=1.0.0 in /usr/local/lib/python3.10/dist-packages (from streamlit) (1.6.2)\n",
            "Requirement already satisfied: cachetools>=4.0 in /usr/local/lib/python3.10/dist-packages (from streamlit) (5.3.0)\n",
            "Requirement already satisfied: click>=7.0 in /usr/local/lib/python3.10/dist-packages (from streamlit) (8.1.3)\n",
            "Requirement already satisfied: importlib-metadata>=1.4 in /usr/local/lib/python3.10/dist-packages (from streamlit) (6.6.0)\n",
            "Requirement already satisfied: numpy in /usr/local/lib/python3.10/dist-packages (from streamlit) (1.22.4)\n",
            "Requirement already satisfied: packaging>=14.1 in /usr/local/lib/python3.10/dist-packages (from streamlit) (23.1)\n",
            "Requirement already satisfied: pandas<3,>=0.25 in /usr/local/lib/python3.10/dist-packages (from streamlit) (1.5.3)\n",
            "Requirement already satisfied: pillow>=6.2.0 in /usr/local/lib/python3.10/dist-packages (from streamlit) (8.4.0)\n",
            "Requirement already satisfied: protobuf<4,>=3.12 in /usr/local/lib/python3.10/dist-packages (from streamlit) (3.20.3)\n",
            "Requirement already satisfied: pyarrow>=4.0 in /usr/local/lib/python3.10/dist-packages (from streamlit) (9.0.0)\n",
            "Requirement already satisfied: pympler>=0.9 in /usr/local/lib/python3.10/dist-packages (from streamlit) (1.0.1)\n",
            "Requirement already satisfied: python-dateutil in /usr/local/lib/python3.10/dist-packages (from streamlit) (2.8.2)\n",
            "Requirement already satisfied: requests>=2.4 in /usr/local/lib/python3.10/dist-packages (from streamlit) (2.27.1)\n",
            "Requirement already satisfied: rich>=10.11.0 in /usr/local/lib/python3.10/dist-packages (from streamlit) (13.3.4)\n",
            "Requirement already satisfied: tenacity<9,>=8.0.0 in /usr/local/lib/python3.10/dist-packages (from streamlit) (8.2.2)\n",
            "Requirement already satisfied: toml in /usr/local/lib/python3.10/dist-packages (from streamlit) (0.10.2)\n",
            "Requirement already satisfied: typing-extensions>=3.10.0.0 in /usr/local/lib/python3.10/dist-packages (from streamlit) (4.5.0)\n",
            "Requirement already satisfied: tzlocal>=1.1 in /usr/local/lib/python3.10/dist-packages (from streamlit) (4.3)\n",
            "Requirement already satisfied: validators>=0.2 in /usr/local/lib/python3.10/dist-packages (from streamlit) (0.20.0)\n",
            "Requirement already satisfied: gitpython!=3.1.19 in /usr/local/lib/python3.10/dist-packages (from streamlit) (3.1.31)\n",
            "Requirement already satisfied: pydeck>=0.1.dev5 in /usr/local/lib/python3.10/dist-packages (from streamlit) (0.8.1b0)\n",
            "Requirement already satisfied: tornado>=6.0.3 in /usr/local/lib/python3.10/dist-packages (from streamlit) (6.3.1)\n",
            "Requirement already satisfied: watchdog in /usr/local/lib/python3.10/dist-packages (from streamlit) (3.0.0)\n",
            "Requirement already satisfied: branca>=0.6.0 in /usr/local/lib/python3.10/dist-packages (from folium) (0.6.0)\n",
            "Requirement already satisfied: jinja2>=2.9 in /usr/local/lib/python3.10/dist-packages (from folium) (3.1.2)\n",
            "Requirement already satisfied: entrypoints in /usr/local/lib/python3.10/dist-packages (from altair<5,>=3.2.0->streamlit) (0.4)\n",
            "Requirement already satisfied: jsonschema>=3.0 in /usr/local/lib/python3.10/dist-packages (from altair<5,>=3.2.0->streamlit) (4.3.3)\n",
            "Requirement already satisfied: toolz in /usr/local/lib/python3.10/dist-packages (from altair<5,>=3.2.0->streamlit) (0.12.0)\n",
            "Requirement already satisfied: gitdb<5,>=4.0.1 in /usr/local/lib/python3.10/dist-packages (from gitpython!=3.1.19->streamlit) (4.0.10)\n",
            "Requirement already satisfied: zipp>=0.5 in /usr/local/lib/python3.10/dist-packages (from importlib-metadata>=1.4->streamlit) (3.15.0)\n",
            "Requirement already satisfied: MarkupSafe>=2.0 in /usr/local/lib/python3.10/dist-packages (from jinja2>=2.9->folium) (2.1.2)\n",
            "Requirement already satisfied: pytz>=2020.1 in /usr/local/lib/python3.10/dist-packages (from pandas<3,>=0.25->streamlit) (2022.7.1)\n",
            "Requirement already satisfied: six>=1.5 in /usr/local/lib/python3.10/dist-packages (from python-dateutil->streamlit) (1.16.0)\n",
            "Requirement already satisfied: urllib3<1.27,>=1.21.1 in /usr/local/lib/python3.10/dist-packages (from requests>=2.4->streamlit) (1.26.15)\n",
            "Requirement already satisfied: certifi>=2017.4.17 in /usr/local/lib/python3.10/dist-packages (from requests>=2.4->streamlit) (2022.12.7)\n",
            "Requirement already satisfied: charset-normalizer~=2.0.0 in /usr/local/lib/python3.10/dist-packages (from requests>=2.4->streamlit) (2.0.12)\n",
            "Requirement already satisfied: idna<4,>=2.5 in /usr/local/lib/python3.10/dist-packages (from requests>=2.4->streamlit) (3.4)\n",
            "Requirement already satisfied: markdown-it-py<3.0.0,>=2.2.0 in /usr/local/lib/python3.10/dist-packages (from rich>=10.11.0->streamlit) (2.2.0)\n",
            "Requirement already satisfied: pygments<3.0.0,>=2.13.0 in /usr/local/lib/python3.10/dist-packages (from rich>=10.11.0->streamlit) (2.14.0)\n",
            "Requirement already satisfied: pytz-deprecation-shim in /usr/local/lib/python3.10/dist-packages (from tzlocal>=1.1->streamlit) (0.1.0.post0)\n",
            "Requirement already satisfied: decorator>=3.4.0 in /usr/local/lib/python3.10/dist-packages (from validators>=0.2->streamlit) (4.4.2)\n",
            "Requirement already satisfied: smmap<6,>=3.0.1 in /usr/local/lib/python3.10/dist-packages (from gitdb<5,>=4.0.1->gitpython!=3.1.19->streamlit) (5.0.0)\n",
            "Requirement already satisfied: attrs>=17.4.0 in /usr/local/lib/python3.10/dist-packages (from jsonschema>=3.0->altair<5,>=3.2.0->streamlit) (23.1.0)\n",
            "Requirement already satisfied: pyrsistent!=0.17.0,!=0.17.1,!=0.17.2,>=0.14.0 in /usr/local/lib/python3.10/dist-packages (from jsonschema>=3.0->altair<5,>=3.2.0->streamlit) (0.19.3)\n",
            "Requirement already satisfied: mdurl~=0.1 in /usr/local/lib/python3.10/dist-packages (from markdown-it-py<3.0.0,>=2.2.0->rich>=10.11.0->streamlit) (0.1.2)\n",
            "Requirement already satisfied: tzdata in /usr/local/lib/python3.10/dist-packages (from pytz-deprecation-shim->tzlocal>=1.1->streamlit) (2023.3)\n"
          ]
        }
      ]
    },
    {
      "cell_type": "code",
      "source": [
        "!pip install streamlit folium pandas pyngrok==4.1.1\n",
        "\n",
        "import streamlit as st\n",
        "import folium\n",
        "import pandas as pd\n",
        "from pyngrok import ngrok"
      ],
      "metadata": {
        "colab": {
          "base_uri": "https://localhost:8080/"
        },
        "id": "TGF-4YfMTGnm",
        "outputId": "4adf6782-241f-4bc3-f530-fb98f08bf0ea"
      },
      "execution_count": 14,
      "outputs": [
        {
          "output_type": "stream",
          "name": "stdout",
          "text": [
            "Looking in indexes: https://pypi.org/simple, https://us-python.pkg.dev/colab-wheels/public/simple/\n",
            "Requirement already satisfied: streamlit in /usr/local/lib/python3.10/dist-packages (1.22.0)\n",
            "Requirement already satisfied: folium in /usr/local/lib/python3.10/dist-packages (0.14.0)\n",
            "Requirement already satisfied: pandas in /usr/local/lib/python3.10/dist-packages (1.5.3)\n",
            "Requirement already satisfied: pyngrok==4.1.1 in /usr/local/lib/python3.10/dist-packages (4.1.1)\n",
            "Requirement already satisfied: future in /usr/local/lib/python3.10/dist-packages (from pyngrok==4.1.1) (0.18.3)\n",
            "Requirement already satisfied: PyYAML in /usr/local/lib/python3.10/dist-packages (from pyngrok==4.1.1) (6.0)\n",
            "Requirement already satisfied: altair<5,>=3.2.0 in /usr/local/lib/python3.10/dist-packages (from streamlit) (4.2.2)\n",
            "Requirement already satisfied: blinker>=1.0.0 in /usr/local/lib/python3.10/dist-packages (from streamlit) (1.6.2)\n",
            "Requirement already satisfied: cachetools>=4.0 in /usr/local/lib/python3.10/dist-packages (from streamlit) (5.3.0)\n",
            "Requirement already satisfied: click>=7.0 in /usr/local/lib/python3.10/dist-packages (from streamlit) (8.1.3)\n",
            "Requirement already satisfied: importlib-metadata>=1.4 in /usr/local/lib/python3.10/dist-packages (from streamlit) (6.6.0)\n",
            "Requirement already satisfied: numpy in /usr/local/lib/python3.10/dist-packages (from streamlit) (1.22.4)\n",
            "Requirement already satisfied: packaging>=14.1 in /usr/local/lib/python3.10/dist-packages (from streamlit) (23.1)\n",
            "Requirement already satisfied: pillow>=6.2.0 in /usr/local/lib/python3.10/dist-packages (from streamlit) (8.4.0)\n",
            "Requirement already satisfied: protobuf<4,>=3.12 in /usr/local/lib/python3.10/dist-packages (from streamlit) (3.20.3)\n",
            "Requirement already satisfied: pyarrow>=4.0 in /usr/local/lib/python3.10/dist-packages (from streamlit) (9.0.0)\n",
            "Requirement already satisfied: pympler>=0.9 in /usr/local/lib/python3.10/dist-packages (from streamlit) (1.0.1)\n",
            "Requirement already satisfied: python-dateutil in /usr/local/lib/python3.10/dist-packages (from streamlit) (2.8.2)\n",
            "Requirement already satisfied: requests>=2.4 in /usr/local/lib/python3.10/dist-packages (from streamlit) (2.27.1)\n",
            "Requirement already satisfied: rich>=10.11.0 in /usr/local/lib/python3.10/dist-packages (from streamlit) (13.3.4)\n",
            "Requirement already satisfied: tenacity<9,>=8.0.0 in /usr/local/lib/python3.10/dist-packages (from streamlit) (8.2.2)\n",
            "Requirement already satisfied: toml in /usr/local/lib/python3.10/dist-packages (from streamlit) (0.10.2)\n",
            "Requirement already satisfied: typing-extensions>=3.10.0.0 in /usr/local/lib/python3.10/dist-packages (from streamlit) (4.5.0)\n",
            "Requirement already satisfied: tzlocal>=1.1 in /usr/local/lib/python3.10/dist-packages (from streamlit) (4.3)\n",
            "Requirement already satisfied: validators>=0.2 in /usr/local/lib/python3.10/dist-packages (from streamlit) (0.20.0)\n",
            "Requirement already satisfied: gitpython!=3.1.19 in /usr/local/lib/python3.10/dist-packages (from streamlit) (3.1.31)\n",
            "Requirement already satisfied: pydeck>=0.1.dev5 in /usr/local/lib/python3.10/dist-packages (from streamlit) (0.8.1b0)\n",
            "Requirement already satisfied: tornado>=6.0.3 in /usr/local/lib/python3.10/dist-packages (from streamlit) (6.3.1)\n",
            "Requirement already satisfied: watchdog in /usr/local/lib/python3.10/dist-packages (from streamlit) (3.0.0)\n",
            "Requirement already satisfied: branca>=0.6.0 in /usr/local/lib/python3.10/dist-packages (from folium) (0.6.0)\n",
            "Requirement already satisfied: jinja2>=2.9 in /usr/local/lib/python3.10/dist-packages (from folium) (3.1.2)\n",
            "Requirement already satisfied: pytz>=2020.1 in /usr/local/lib/python3.10/dist-packages (from pandas) (2022.7.1)\n",
            "Requirement already satisfied: entrypoints in /usr/local/lib/python3.10/dist-packages (from altair<5,>=3.2.0->streamlit) (0.4)\n",
            "Requirement already satisfied: jsonschema>=3.0 in /usr/local/lib/python3.10/dist-packages (from altair<5,>=3.2.0->streamlit) (4.3.3)\n",
            "Requirement already satisfied: toolz in /usr/local/lib/python3.10/dist-packages (from altair<5,>=3.2.0->streamlit) (0.12.0)\n",
            "Requirement already satisfied: gitdb<5,>=4.0.1 in /usr/local/lib/python3.10/dist-packages (from gitpython!=3.1.19->streamlit) (4.0.10)\n",
            "Requirement already satisfied: zipp>=0.5 in /usr/local/lib/python3.10/dist-packages (from importlib-metadata>=1.4->streamlit) (3.15.0)\n",
            "Requirement already satisfied: MarkupSafe>=2.0 in /usr/local/lib/python3.10/dist-packages (from jinja2>=2.9->folium) (2.1.2)\n",
            "Requirement already satisfied: six>=1.5 in /usr/local/lib/python3.10/dist-packages (from python-dateutil->streamlit) (1.16.0)\n",
            "Requirement already satisfied: urllib3<1.27,>=1.21.1 in /usr/local/lib/python3.10/dist-packages (from requests>=2.4->streamlit) (1.26.15)\n",
            "Requirement already satisfied: certifi>=2017.4.17 in /usr/local/lib/python3.10/dist-packages (from requests>=2.4->streamlit) (2022.12.7)\n",
            "Requirement already satisfied: charset-normalizer~=2.0.0 in /usr/local/lib/python3.10/dist-packages (from requests>=2.4->streamlit) (2.0.12)\n",
            "Requirement already satisfied: idna<4,>=2.5 in /usr/local/lib/python3.10/dist-packages (from requests>=2.4->streamlit) (3.4)\n",
            "Requirement already satisfied: markdown-it-py<3.0.0,>=2.2.0 in /usr/local/lib/python3.10/dist-packages (from rich>=10.11.0->streamlit) (2.2.0)\n",
            "Requirement already satisfied: pygments<3.0.0,>=2.13.0 in /usr/local/lib/python3.10/dist-packages (from rich>=10.11.0->streamlit) (2.14.0)\n",
            "Requirement already satisfied: pytz-deprecation-shim in /usr/local/lib/python3.10/dist-packages (from tzlocal>=1.1->streamlit) (0.1.0.post0)\n",
            "Requirement already satisfied: decorator>=3.4.0 in /usr/local/lib/python3.10/dist-packages (from validators>=0.2->streamlit) (4.4.2)\n",
            "Requirement already satisfied: smmap<6,>=3.0.1 in /usr/local/lib/python3.10/dist-packages (from gitdb<5,>=4.0.1->gitpython!=3.1.19->streamlit) (5.0.0)\n",
            "Requirement already satisfied: attrs>=17.4.0 in /usr/local/lib/python3.10/dist-packages (from jsonschema>=3.0->altair<5,>=3.2.0->streamlit) (23.1.0)\n",
            "Requirement already satisfied: pyrsistent!=0.17.0,!=0.17.1,!=0.17.2,>=0.14.0 in /usr/local/lib/python3.10/dist-packages (from jsonschema>=3.0->altair<5,>=3.2.0->streamlit) (0.19.3)\n",
            "Requirement already satisfied: mdurl~=0.1 in /usr/local/lib/python3.10/dist-packages (from markdown-it-py<3.0.0,>=2.2.0->rich>=10.11.0->streamlit) (0.1.2)\n",
            "Requirement already satisfied: tzdata in /usr/local/lib/python3.10/dist-packages (from pytz-deprecation-shim->tzlocal>=1.1->streamlit) (2023.3)\n"
          ]
        }
      ]
    },
    {
      "cell_type": "code",
      "source": [
        "def main():\n",
        "    # Set the page title\n",
        "    st.title(\"Location Map\")\n",
        "\n",
        "    # Read the location data from a CSV file\n",
        "    df = pd.read_csv(Final)\n",
        "\n",
        "    # Create a map object\n",
        "    m = folium.Map()\n",
        "\n",
        "    # Add markers for each location\n",
        "    for index, row in df.iterrows():\n",
        "        folium.Marker([row['Lat'], row['Long']], popup=row['Province_State']).add_to(m)\n",
        "\n",
        "    # Generate the HTML string representation of the map\n",
        "    m = m._repr_html_()\n",
        "\n",
        "    # Display the map using Streamlit\n",
        "    st.markdown(m, unsafe_allow_html=True)\n",
        "\n",
        "if __name__ == '__main__':\n",
        "    main()\n",
        "    url = ngrok.connect(port='8501')\n",
        "    print('Streamlit app URL:', url)"
      ],
      "metadata": {
        "colab": {
          "base_uri": "https://localhost:8080/"
        },
        "id": "BTkzm8HxTN8b",
        "outputId": "07ef00c8-f8c1-4277-9b7b-984e82532075"
      },
      "execution_count": null,
      "outputs": [
        {
          "output_type": "stream",
          "name": "stderr",
          "text": [
            "2023-05-24 11:59:57.878 \n",
            "  \u001b[33m\u001b[1mWarning:\u001b[0m to view this Streamlit app on a browser, run it with the following\n",
            "  command:\n",
            "\n",
            "    streamlit run /usr/local/lib/python3.10/dist-packages/ipykernel_launcher.py [ARGUMENTS]\n"
          ]
        }
      ]
    }
  ]
}